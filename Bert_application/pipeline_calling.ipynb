{
 "cells": [
  {
   "cell_type": "code",
   "execution_count": 6,
   "id": "37bdd3e6",
   "metadata": {},
   "outputs": [
    {
     "name": "stderr",
     "output_type": "stream",
     "text": [
      "No model was supplied, defaulted to distilbert/distilbert-base-uncased-finetuned-sst-2-english and revision 714eb0f (https://huggingface.co/distilbert/distilbert-base-uncased-finetuned-sst-2-english).\n",
      "Using a pipeline without specifying a model name and revision in production is not recommended.\n"
     ]
    },
    {
     "name": "stdout",
     "output_type": "stream",
     "text": [
      "出现错误: (MaxRetryError(\"HTTPSConnectionPool(host='huggingface.co', port=443): Max retries exceeded with url: /distilbert/distilbert-base-uncased-finetuned-sst-2-english/resolve/714eb0f/config.json (Caused by ProxyError('Unable to connect to proxy', NewConnectionError('<urllib3.connection.HTTPSConnection object at 0x31381b500>: Failed to establish a new connection: [Errno 61] Connection refused')))\"), '(Request ID: 957e71a9-b180-4a88-950a-0046012580c6)')\n",
      "请尝试使用方法2（禁用SSL验证）或预先下载模型到本地\n"
     ]
    }
   ],
   "source": [
    "import os\n",
    "os.environ[\"http_proxy\"] = \"http://127.0.0.1:1080\"\n",
    "os.environ[\"https_proxy\"] = \"http://127.0.0.1:1080\"\n",
    "from transformers import pipeline\n",
    "\n",
    "# 创建各种类型的 pipeline\n",
    "try:\n",
    "    # 文本分类\n",
    "    classifier = pipeline(\"sentiment-analysis\")\n",
    "    result = classifier(\"Hello, how are you?\")\n",
    "    print(\"情感分析结果:\", result)\n",
    "    \n",
    "    # 填充掩码\n",
    "    fill_mask = pipeline(\"fill-mask\")\n",
    "    mask_result = fill_mask(\"The capital of France is [MASK].\")\n",
    "    print(\"填充掩码结果:\", mask_result)\n",
    "    \n",
    "    # 问答系统\n",
    "    qa = pipeline(\"question-answering\")\n",
    "    context = \"The Golden Gate Bridge is a suspension bridge spanning the Golden Gate.\"\n",
    "    question = \"What spans the Golden Gate?\"\n",
    "    qa_result = qa(question=question, context=context)\n",
    "    print(\"问答结果:\", qa_result)\n",
    "    \n",
    "except Exception as e:\n",
    "    print(f\"出现错误: {e}\")\n",
    "    print(\"请尝试使用方法2（禁用SSL验证）或预先下载模型到本地\")"
   ]
  }
 ],
 "metadata": {
  "kernelspec": {
   "display_name": "nlp",
   "language": "python",
   "name": "python3"
  },
  "language_info": {
   "codemirror_mode": {
    "name": "ipython",
    "version": 3
   },
   "file_extension": ".py",
   "mimetype": "text/x-python",
   "name": "python",
   "nbconvert_exporter": "python",
   "pygments_lexer": "ipython3",
   "version": "3.12.11"
  }
 },
 "nbformat": 4,
 "nbformat_minor": 5
}
