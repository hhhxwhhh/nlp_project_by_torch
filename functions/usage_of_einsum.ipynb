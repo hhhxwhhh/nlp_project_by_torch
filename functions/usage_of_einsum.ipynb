{
 "cells": [
  {
   "cell_type": "code",
   "execution_count": 1,
   "id": "9b9e3233",
   "metadata": {},
   "outputs": [
    {
     "data": {
      "text/plain": [
       "'\\neinsum 是一个用于计算张量之间的运算的工具，\\n它允许我们使用字符串来描述张量的形状和运算，\\n从而实现更高效的计算。\\n'"
      ]
     },
     "execution_count": 1,
     "metadata": {},
     "output_type": "execute_result"
    }
   ],
   "source": [
    "#介绍常用的einsum\n",
    "\"\"\"\n",
    "einsum 是一个用于计算张量之间的运算的工具，\n",
    "它允许我们使用字符串来描述张量的形状和运算，\n",
    "从而实现更高效的计算。\n",
    "\"\"\""
   ]
  },
  {
   "cell_type": "code",
   "execution_count": 2,
   "id": "783410a6",
   "metadata": {},
   "outputs": [],
   "source": [
    "import torch\n"
   ]
  },
  {
   "cell_type": "code",
   "execution_count": null,
   "id": "206f6119",
   "metadata": {},
   "outputs": [
    {
     "name": "stdout",
     "output_type": "stream",
     "text": [
      "torch.Size([3, 5])\n"
     ]
    }
   ],
   "source": [
    "#matrix\n",
    "a=torch.randn(3,4)\n",
    "b=torch.randn(4,5)\n",
    "c=torch.einsum(\"ij,jk->ik\",a,b)\n",
    "print(c.shape)\n"
   ]
  },
  {
   "cell_type": "code",
   "execution_count": null,
   "id": "82e7fcfa",
   "metadata": {},
   "outputs": [
    {
     "name": "stdout",
     "output_type": "stream",
     "text": [
      "tensor([ 0.7464,  2.3463,  1.3368, -1.9102, -0.1491]) tensor([-1.4021,  0.4033,  0.1583,  0.0970, -0.6012])\n",
      "tensor(0.0157)\n"
     ]
    }
   ],
   "source": [
    "#dot \n",
    "a=torch.randn(5)\n",
    "b=torch.randn(5)\n",
    "print(a,b)\n",
    "print(torch.einsum(\"i,i->\",a,b))\n"
   ]
  },
  {
   "cell_type": "code",
   "execution_count": 9,
   "id": "610dcf69",
   "metadata": {},
   "outputs": [
    {
     "name": "stdout",
     "output_type": "stream",
     "text": [
      "torch.Size([5, 3, 4])\n"
     ]
    }
   ],
   "source": [
    "a=torch.randn(3,4,5)\n",
    "print(torch.einsum(\"ijk->kij\",a).shape)"
   ]
  }
 ],
 "metadata": {
  "kernelspec": {
   "display_name": "nlp",
   "language": "python",
   "name": "python3"
  },
  "language_info": {
   "codemirror_mode": {
    "name": "ipython",
    "version": 3
   },
   "file_extension": ".py",
   "mimetype": "text/x-python",
   "name": "python",
   "nbconvert_exporter": "python",
   "pygments_lexer": "ipython3",
   "version": "3.12.11"
  }
 },
 "nbformat": 4,
 "nbformat_minor": 5
}
