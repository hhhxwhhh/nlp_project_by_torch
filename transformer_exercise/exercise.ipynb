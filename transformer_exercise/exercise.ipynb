{
 "cells": [
  {
   "cell_type": "code",
   "execution_count": 1,
   "id": "b189b87c",
   "metadata": {},
   "outputs": [],
   "source": [
    "import torch\n",
    "import torch.nn as nn\n",
    "import torch.nn.functional as F\n",
    "import torch.optim as optim\n",
    "import math \n",
    "import numpy as np\n",
    "from torch.utils.data import Dataset,DataLoader\n",
    "import matplotlib.pyplot as plt\n"
   ]
  },
  {
   "cell_type": "code",
   "execution_count": 2,
   "id": "e9301386",
   "metadata": {},
   "outputs": [],
   "source": [
    "#实现位置编码\n",
    "class PositionalEncoding(nn.Module):\n",
    "    def __init__(self,d_model,max_len=5000):\n",
    "        \"\"\" \n",
    "        d_model: 输入的维度\n",
    "        max_len: 最长的序列长度\n",
    "        \"\"\"\n",
    "        super(PositionalEncoding,self).__init__()\n",
    "        # 初始化位置编码\n",
    "        pe=torch.zeros(max_len,d_model)\n",
    "        position=torch.arange(0,max_len,dtype=torch.float)\n",
    "        position=position.reshape(max_len,1)\n",
    "\n",
    "        #计算位置编码的分母部分\n",
    "        div_term=torch.exp(torch.arange(0,d_model,2).float()*(-math.log(10000.0)/d_model))\n",
    "\n",
    "        #完成位置编码矩阵的填充计算\n",
    "        pe[:,0::2]=torch.sin(position*div_term) #偶数列\n",
    "        pe[:,1::2]=torch.cos(position*div_term) #奇数列\n",
    "\n",
    "        #将位置编码矩阵固定住，不进行梯度计算\n",
    "        pe=pe.unsqueeze(0).transpose(0,1)\n",
    "        self.register_buffer('pe',pe)\n",
    "    def forward(self,x):\n",
    "        \"\"\"\n",
    "        x: [seq_len,batch_size,d_model]\n",
    "        \"\"\"\n",
    "        return x+self.pe[:x.size(0),:]"
   ]
  },
  {
   "cell_type": "code",
   "execution_count": 3,
   "id": "067f7777",
   "metadata": {},
   "outputs": [],
   "source": [
    "class SimpleTransformer(nn.Module):\n",
    "    def __init__(self,vocab_size,d_model,nhead,num_layers,dim_feedforward,dropout=0.1):\n",
    "        \"\"\"  \n",
    "        vocab_size:词汇表大小\n",
    "        d_model:输入和输出的维度\n",
    "        nhead:多头注意力的头数\n",
    "        num_layers:编码器的层数\n",
    "        dim_feedforward:前馈网络的维度\n",
    "        dropout:丢弃概率\n",
    "        \"\"\"\n",
    "        super(SimpleTransformer,self).__init__()\n",
    "        self.model_type='Transformer'\n",
    "        self.d_model=d_model\n",
    "\n",
    "        #词嵌入层\n",
    "        self.embedding=nn.Embedding(vocab_size,d_model)\n",
    "        #位置编码层\n",
    "        self.pos_encoder=PositionalEncoding(d_model)\n",
    "        #transformer编码器\n",
    "        encoder_layers=nn.TransformerEncoderLayer(d_model,nhead,dim_feedforward=dim_feedforward,dropout=dropout,batch_first=False)\n",
    "        #transformer编码器堆叠\n",
    "        self.transformer_encoder=nn.TransformerEncoder(encoder_layer=encoder_layers,num_layers=num_layers)\n",
    "        #输出层\n",
    "        self.decoder=nn.Linear(d_model,vocab_size)\n",
    "\n",
    "        self.init_weights()\n",
    "\n",
    "    def init_weights(self):\n",
    "        \"\"\"初始化模型的参数权重\"\"\"\n",
    "        initrange=0.1\n",
    "        self.embedding.weight.data.uniform_(-initrange,initrange)\n",
    "        self.decoder.bias.data.zero_()\n",
    "        self.decoder.weight.data.uniform_(-initrange,initrange)\n",
    "    def forward(self,src,src_mask=None):\n",
    "        \"\"\" \n",
    "        src:输入序列,shape=(seq_len,batch_size)\n",
    "        src_mask:输入序列的mask,shape=(seq_len,seq_len) 原序列的掩码，用于防止模型看到未来的信息\n",
    "        \"\"\"\n",
    "        #将词嵌入并进行缩放\n",
    "        src=self.embedding(src)*math.sqrt(self.d_model)\n",
    "\n",
    "        #添加位置编码\n",
    "        src=self.pos_encoder(src)\n",
    "        #通过编码层进行编码\n",
    "        output=self.transformer_encoder(src,src_mask)\n",
    "        output=self.decoder(output)\n",
    "        return output\n"
   ]
  },
  {
   "cell_type": "code",
   "execution_count": 4,
   "id": "06cf121e",
   "metadata": {},
   "outputs": [],
   "source": [
    "#生成掩码函数\n",
    "def generate_square_subsequent_mask(sz):\n",
    "    \"\"\"用于生成square mask,即对角线及对角线以上的元素为0,否则为1\n",
    "    参数：\n",
    "    sz: int, mask的尺寸\n",
    "    \"\"\"\n",
    "    mask=(torch.triu(torch.ones(sz,sz))==1).transpose(0,1)\n",
    "    mask=mask.float().masked_fill(mask==0,float('-inf')).masked_fill(mask==1,float(0.0))\n",
    "    return mask"
   ]
  },
  {
   "cell_type": "code",
   "execution_count": 5,
   "id": "d07e47ad",
   "metadata": {},
   "outputs": [],
   "source": [
    "#创建简单的数据用于测试\n",
    "class SimpleDataset(Dataset):\n",
    "    def __init__(self,data,targets):\n",
    "        self.data=data \n",
    "        self.targets=targets\n",
    "\n",
    "    def __len__(self):\n",
    "        return len(self.data)\n",
    "    def __getitem__(self, index):\n",
    "        return self.data[index],self.targets[index]"
   ]
  },
  {
   "cell_type": "code",
   "execution_count": 6,
   "id": "1a93c553",
   "metadata": {},
   "outputs": [],
   "source": [
    "def generate_sample_data(num_samples=1000,seq_length=20,vocab_size=100):\n",
    "    \"\"\"生成样本数据用于训练\n",
    "    参数：\n",
    "    num_samples:样本数量\n",
    "    seq_length:序列长度\n",
    "    vocab_size:字典大小\n",
    "    \"\"\"\n",
    "    data=torch.randint(0,vocab_size,(num_samples,seq_length))\n",
    "    targets=torch.roll(data,shifts=-1,dims=1)\n",
    "    targets[:,-1]=0\n",
    "\n",
    "    return data,targets"
   ]
  },
  {
   "cell_type": "code",
   "execution_count": 7,
   "id": "cabf2f1b",
   "metadata": {},
   "outputs": [],
   "source": [
    "train_data,train_targets=generate_sample_data(num_samples=1000,seq_length=20,vocab_size=100)\n",
    "train_dataset=SimpleDataset(train_data,train_targets)\n",
    "train_loader=DataLoader(train_dataset,batch_size=32,shuffle=True)"
   ]
  },
  {
   "cell_type": "code",
   "execution_count": 8,
   "id": "f01af53b",
   "metadata": {},
   "outputs": [
    {
     "name": "stderr",
     "output_type": "stream",
     "text": [
      "/Applications/app_for_code/miniconda3/envs/nlp/lib/python3.12/site-packages/torch/nn/modules/transformer.py:286: UserWarning: enable_nested_tensor is True, but self.use_nested_tensor is False because encoder_layer.self_attn.batch_first was not True(use batch_first for better inference performance)\n",
      "  warnings.warn(f\"enable_nested_tensor is True, but self.use_nested_tensor is False because {why_not_sparsity_fast_path}\")\n"
     ]
    }
   ],
   "source": [
    "vocab_size=100\n",
    "d_model=128\n",
    "nhead=8\n",
    "num_layers=2\n",
    "dim_feedforward=512\n",
    "dropout=0.1\n",
    "\n",
    "model=SimpleTransformer(\n",
    "    vocab_size=vocab_size,\n",
    "    d_model=d_model,\n",
    "    nhead=nhead,\n",
    "    num_layers=num_layers,\n",
    "    dim_feedforward=dim_feedforward,\n",
    "    dropout=dropout\n",
    ")\n",
    "\n",
    "criterion=nn.CrossEntropyLoss()\n",
    "optimizer=optim.Adam(model.parameters(), lr=0.001)\n",
    "\n",
    "device=torch.device(\"cuda\" if torch.cuda.is_available() else \"cpu\")\n",
    "model=model.to(device)"
   ]
  },
  {
   "cell_type": "code",
   "execution_count": 11,
   "id": "a921d395",
   "metadata": {},
   "outputs": [
    {
     "name": "stdout",
     "output_type": "stream",
     "text": [
      "Training started...\n",
      "Epoch [1/10], Loss: 4.5231\n",
      "Epoch [2/10], Loss: 4.3304\n",
      "Epoch [3/10], Loss: 3.7431\n",
      "Epoch [4/10], Loss: 1.8412\n",
      "Epoch [5/10], Loss: 0.2556\n",
      "Epoch [6/10], Loss: 0.0567\n",
      "Epoch [7/10], Loss: 0.0323\n",
      "Epoch [8/10], Loss: 0.0241\n",
      "Epoch [9/10], Loss: 0.0186\n",
      "Epoch [10/10], Loss: 0.0160\n"
     ]
    }
   ],
   "source": [
    "def train_model(model,train_loader,criterion,optimizer,num_epochs=10):\n",
    "    \"\"\"参数含义：\n",
    "    model: 模型\n",
    "    train_loader: 训练数据集\n",
    "    criterion: 损失函数\n",
    "    optimizer: 优化器\n",
    "    num_epochs: 训练轮数\n",
    "    \"\"\"\n",
    "    model.train()\n",
    "\n",
    "    losses=[]\n",
    "    for epoch in range(num_epochs):\n",
    "        total_loss=0\n",
    "        for batch_idx,(data,target) in enumerate(train_loader):\n",
    "            data=data.transpose(0,1).to(device)\n",
    "            target=target.transpose(0,1).to(device)\n",
    "\n",
    "            optimizer.zero_grad()\n",
    "            output=model(data)\n",
    "            loss=criterion(output.reshape(-1, output.size(-1)), target.reshape(-1))\n",
    "            loss.backward()\n",
    "            optimizer.step()\n",
    "            total_loss+=loss.item()\n",
    "        avg_loss=total_loss/len(train_loader)\n",
    "        losses.append(avg_loss)\n",
    "        print('Epoch [{}/{}], Loss: {:.4f}'.format(epoch+1, num_epochs, avg_loss))\n",
    "    return losses \n",
    "print(\"Training started...\")\n",
    "losses=train_model(model=model,train_loader=train_loader,criterion=criterion,optimizer=optimizer,num_epochs=10)"
   ]
  },
  {
   "cell_type": "code",
   "execution_count": 13,
   "id": "6a335145",
   "metadata": {},
   "outputs": [
    {
     "data": {
      "image/png": "[encoded data removed]",
      "text/plain": [
       "<Figure size 1000x500 with 1 Axes>"
      ]
     },
     "metadata": {},
     "output_type": "display_data"
    }
   ],
   "source": [
    "#可视化损失曲线图\n",
    "plt.figure(figsize=(10, 5))\n",
    "plt.plot(losses, label='Training loss')\n",
    "plt.title(\"Traing Loss\")\n",
    "plt.legend()\n",
    "plt.xlabel(\"Batch\")\n",
    "plt.ylabel(\"Loss\")\n",
    "plt.grid(True)\n",
    "plt.show()\n"
   ]
  },
  {
   "cell_type": "code",
   "execution_count": 14,
   "id": "9028ea74",
   "metadata": {},
   "outputs": [
    {
     "name": "stdout",
     "output_type": "stream",
     "text": [
      "测试结果:\n",
      "输入序列:\n",
      "[11 85 90 38 37]\n",
      "真实目标:\n",
      "[37 53  9 26 23]\n",
      "模型预测:\n",
      "[0 0 2 3 0 3 3 1 1 0 0 3 0 4 2 0 2 1 3 4]\n"
     ]
    }
   ],
   "source": [
    "def test_model(model,test_data):\n",
    "    \"\"\"\n",
    "    测试模型\n",
    "    model: 模型\n",
    "    test_loader: 测试数据\n",
    "    \"\"\"\n",
    "    model.eval()\n",
    "    with torch.no_grad():\n",
    "        test_data=test_data.transpose(0,1).to(device)\n",
    "\n",
    "        output=model(test_data)\n",
    "        predicted=torch.argmax(output,dim=1)\n",
    "        return predicted\n",
    "    \n",
    "test_data,test_target=generate_sample_data(num_samples=5,seq_length=20,vocab_size=100)\n",
    "predicted=test_model(model,test_data)\n",
    "# 显示结果\n",
    "print(\"测试结果:\")\n",
    "print(\"输入序列:\")\n",
    "print(test_data[:, 0].cpu().numpy())\n",
    "print(\"真实目标:\")\n",
    "print(test_target[:, 0].cpu().numpy())\n",
    "print(\"模型预测:\")\n",
    "print(predicted[:, 0].cpu().numpy())"
   ]
  }
 ],
 "metadata": {
  "kernelspec": {
   "display_name": "nlp",
   "language": "python",
   "name": "python3"
  },
  "language_info": {
   "codemirror_mode": {
    "name": "ipython",
    "version": 3
   },
   "file_extension": ".py",
   "mimetype": "text/x-python",
   "name": "python",
   "nbconvert_exporter": "python",
   "pygments_lexer": "ipython3",
   "version": "3.12.11"
  }
 },
 "nbformat": 4,
 "nbformat_minor": 5
}
